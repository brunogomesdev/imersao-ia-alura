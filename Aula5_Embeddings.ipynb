{
  "nbformat": 4,
  "nbformat_minor": 0,
  "metadata": {
    "colab": {
      "provenance": [],
      "authorship_tag": "ABX9TyPYLNHbpHWBlx3CZP9A4ImB",
      "include_colab_link": true
    },
    "kernelspec": {
      "name": "python3",
      "display_name": "Python 3"
    },
    "language_info": {
      "name": "python"
    }
  },
  "cells": [
    {
      "cell_type": "markdown",
      "metadata": {
        "id": "view-in-github",
        "colab_type": "text"
      },
      "source": [
        "<a href=\"https://colab.research.google.com/github/brunogomesdev/imersao-ia-alura/blob/main/Aula5_Embeddings.ipynb\" target=\"_parent\"><img src=\"https://colab.research.google.com/assets/colab-badge.svg\" alt=\"Open In Colab\"/></a>"
      ]
    },
    {
      "cell_type": "markdown",
      "source": [
        "\n",
        "Instalando o SDK do Google"
      ],
      "metadata": {
        "id": "GlE5WJ1ep4SC"
      }
    },
    {
      "cell_type": "code",
      "execution_count": 1,
      "metadata": {
        "id": "W5msyUJrkxt5"
      },
      "outputs": [],
      "source": [
        "!pip install -q -U google-generativeai"
      ]
    },
    {
      "cell_type": "markdown",
      "source": [
        "Importando o SDK instalado e configurando a API KEY"
      ],
      "metadata": {
        "id": "bYQDj8ixqOI6"
      }
    },
    {
      "cell_type": "code",
      "source": [
        "import numpy as np\n",
        "import pandas as pd\n",
        "import google.generativeai as genai\n",
        "\n",
        "from google.colab import userdata\n",
        "apy_key = userdata.get('SECRET_KEY')\n",
        "genai.configure(api_key=apy_key)"
      ],
      "metadata": {
        "id": "0wCWa4FlqVTB"
      },
      "execution_count": 2,
      "outputs": []
    },
    {
      "cell_type": "markdown",
      "source": [
        "Listar os modelos disponíveis"
      ],
      "metadata": {
        "id": "bohub7xFwqTi"
      }
    },
    {
      "cell_type": "code",
      "source": [
        "for m in genai.list_models():\n",
        "  if 'embedContent' in m.supported_generation_methods:\n",
        "    print(m.name)"
      ],
      "metadata": {
        "colab": {
          "base_uri": "https://localhost:8080/",
          "height": 54
        },
        "id": "n-KgrHx0wq_6",
        "outputId": "5e081a24-fd27-4c90-a43f-5d8628989a1c"
      },
      "execution_count": 3,
      "outputs": [
        {
          "output_type": "stream",
          "name": "stdout",
          "text": [
            "models/embedding-001\n",
            "models/text-embedding-004\n"
          ]
        }
      ]
    },
    {
      "cell_type": "markdown",
      "source": [
        "Exemplo de Embedding"
      ],
      "metadata": {
        "id": "0J3IzAWK1jxk"
      }
    },
    {
      "cell_type": "code",
      "source": [
        "title = \"Nome do Produto\"\n",
        "sample_text = (\"Título: Nome do Produto\"\n",
        "  \"\\n\"\n",
        "  \"Descrição:\\n\"\n",
        "  \"\\n\"\n",
        "  \"Descrição do produto contendo uma grande quantidade de caracteres\")\n",
        "\n",
        "embeddings = genai.embed_content(model=\"models/embedding-001\",\n",
        "                                 content=sample_text,\n",
        "                                 title=title,\n",
        "                                 task_type=\"RETRIEVAL_DOCUMENT\")\n",
        "\n",
        "print(embeddings)"
      ],
      "metadata": {
        "colab": {
          "base_uri": "https://localhost:8080/",
          "height": 55
        },
        "id": "XqVv67Hw1nI1",
        "outputId": "75c8c5c8-b919-4047-840c-151d73dd460d"
      },
      "execution_count": 4,
      "outputs": [
        {
          "output_type": "stream",
          "name": "stdout",
          "text": [
            "{'embedding': [0.027016604, -0.028080039, -0.04313697, 0.0067817722, 0.05942943, 0.011321413, -0.033422217, -0.0066970745, -0.0023662143, 0.06881162, -0.024206834, -0.010451599, -0.03495332, -0.020500591, -0.0027357924, -0.017435458, 0.009893929, 0.041432366, -0.036598265, 0.011308241, -0.0028181495, 0.022713762, -0.014899582, -0.032606628, -0.018597292, -0.010126305, 0.023264013, -0.0010649452, -0.039767478, 0.022370473, -0.030831238, 0.036546826, -0.05382791, 0.025800213, -0.01676523, -0.06591555, -0.03493371, 0.02919189, 0.0026846458, 0.014730426, 0.020831075, -0.014339254, -0.019870732, 0.0027747625, 0.0049025826, 0.027271803, -0.030293135, -0.005934032, 0.028811531, -0.09552059, 0.004654622, 0.0014506861, 0.07700649, -0.017037155, -0.02701149, -0.030247876, 0.041016687, -0.02365543, -0.032610048, -0.003260779, -0.0004953076, 0.0107881725, 0.036435105, 0.014466433, -0.024595933, -0.032445733, -0.026286853, 0.0026990043, 0.03265394, 0.011750167, -0.027884612, -0.046763398, 0.0021268793, -0.002230402, 0.004825992, -0.11659653, -0.008719662, 0.07694958, 0.038067978, -0.038513124, 0.03773634, -0.045871764, -0.064121634, -0.074138686, -0.059069708, 0.014822346, -0.062805355, -0.030758834, -0.008906149, 0.054876268, -0.02612218, -0.023939047, 0.05307291, -0.038912598, 0.008040535, 0.043827575, -0.050761327, -0.025014743, -0.0056343586, -0.036359098, 0.012546308, -0.001530191, -0.023545565, -0.029697826, 0.019689098, -0.006979809, 0.018817477, 0.051006723, -0.022233319, 0.06738153, -0.04477183, -0.019979721, 0.0013534934, 0.0035809008, 0.04893375, 0.012710747, 0.017411463, 0.01674124, 0.05370033, 0.013750315, 0.024961032, -0.013180504, 0.0936202, -0.008195569, 0.009181804, 0.03212856, 0.0023889823, 0.045226123, 0.03729597, -0.018376024, -0.00047625182, -0.014059682, -0.04344047, 0.0343853, 0.06926464, 0.08975705, 0.039201964, 0.004184057, 0.046070814, 0.017517272, -0.003094038, 0.019343818, 0.010058963, 0.059831094, -0.0011444251, 0.063954726, -0.030859841, 0.016732631, 0.050040547, -0.036077477, 0.03529772, -0.007923658, -0.07887346, 0.0049005966, 0.10202862, 0.017082507, -0.0067179385, 0.029497718, 0.03570506, 0.0006618047, 0.05372989, 0.011120875, -0.004231921, 0.030975237, -0.033238005, -0.022272583, -0.009589403, 0.014657206, 0.048980366, 0.033936642, -0.010127398, 0.014581883, -0.049482714, -0.049457207, -0.012831538, -0.046650223, -0.024407424, -0.017846731, -0.055979688, -0.0052596983, 0.013703878, -0.049439695, 0.04083262, 0.05020469, 0.015734335, -0.048854902, 0.094731905, 0.0139937615, -0.05689929, 0.031533945, -0.0312361, -0.02911998, -0.022428915, -0.03491795, -0.029515842, 0.0060705286, -0.018405253, 0.0046338593, 0.0057509034, -0.03751481, 0.0050773467, 0.04753285, 0.026753679, -0.0010568316, 0.03595373, -0.029937947, 0.058076, -0.06180107, -0.027537348, 0.056773674, -0.061865263, 0.018778592, 0.013271718, 0.01180674, 0.076640144, -0.008320541, 0.014422276, 0.03110337, -0.024249632, -0.0048793484, -0.033702895, 0.0039484696, -0.015047168, 0.0043329285, -0.04043345, 0.065084346, -0.0267493, 0.0227187, 0.0016507206, -0.045635425, 0.011744696, 0.0661045, 0.015564456, -0.012557045, 0.06277838, -0.032873295, 0.0011529735, 0.024130275, -0.008918253, 0.036559235, -0.030113908, 0.06509947, 0.039269272, 0.032670803, -0.03906809, -0.053867146, -0.027253218, 0.046139516, -0.035909172, 0.074633434, 0.00073981984, -0.032506496, -0.011960845, 0.016161624, -0.092116386, 0.014176324, -0.068545915, 0.037790492, 0.011079683, 0.0020212347, 0.034791805, -0.015308295, 0.040217075, -0.034660105, -0.03889091, 0.0005607856, -0.01620106, -0.07470617, -0.013884017, 0.025827281, -0.02206336, -0.01980003, 0.04647363, -0.012905598, -0.015603753, -0.025042279, -0.018877024, 0.06159916, -0.006151338, -0.08230946, -0.0018109714, 0.0630796, 0.015689079, -0.016549293, 0.0043943254, -0.010804634, -0.051901203, -0.05781949, 0.04770656, -0.01813563, -0.06859219, -0.026247626, -0.017207239, -0.053991508, -0.044217594, 0.009185202, -0.014529199, 0.036340825, 0.028756969, 0.002542558, -0.008031551, -0.07559139, 0.022328703, -0.092264004, 0.008553984, 0.0014384817, 0.015959367, -0.071692385, 0.02612547, 0.019528052, 0.042371914, -0.015165899, -0.048766587, 0.02521053, 0.060302824, 0.05278004, -0.05017023, 0.013652581, -0.03429422, 0.076286525, 0.0153538585, 0.10033904, 0.031614956, 0.009291104, -0.027842706, 0.044387653, 0.014233107, 0.015022598, -0.014495951, 0.0058540134, -0.0433912, 0.0069173938, -0.07726356, 0.05062831, -0.02105876, 0.023855316, -0.10268852, 0.008433409, -0.044589713, -0.0178196, 0.0010742901, 0.020886604, -0.02346365, -0.07342796, 0.0062211133, -0.033346504, -0.042289216, 0.019586986, 0.05525375, 0.04739208, -0.0031159667, 0.04299962, -0.022161415, 0.013935981, -0.011462598, -0.017903319, 0.08974703, -0.017792681, 0.026688801, 0.0013781432, -0.008042924, 0.024862586, -0.021498905, -0.038314864, 0.003686073, 0.034210205, 0.017525923, 0.022424877, -0.045215916, 0.041986138, 0.015930338, -0.024435692, 0.01772791, -0.007986608, -0.0024578688, -0.032016166, -0.025199506, -0.04393725, 0.05396423, 0.026819458, 0.010369566, -0.027391594, 0.019132126, -0.032388877, -0.014995743, 0.01824462, 0.06443223, 0.019461785, 0.031276423, 0.040217947, -0.059975732, 0.05316375, 0.074150376, 0.033685625, 0.02309188, -0.018857038, -0.04541468, -0.034922842, 0.05743341, 0.05422046, 0.010963632, -0.040339246, -0.04068331, 0.030451782, -0.07408674, -0.011913121, 0.022666626, -0.021890255, -0.08236801, -0.020489018, -0.008929489, 0.018763479, 0.008873502, -0.047920823, -0.0667374, -0.017820833, 0.05890351, 4.680352e-06, -0.01788134, 0.010830772, -0.025959104, -0.019793926, 0.017166154, -0.0015415649, -0.08269978, -0.033660315, 0.014499408, -0.014900592, 0.018304285, -0.009303533, 0.033598535, -0.01759753, 0.002254291, -0.04392168, -0.0054680468, -0.058642223, 0.025689857, 0.040453248, -0.022663018, -0.015135168, 0.042258676, -0.005692297, 0.0077108424, -0.008008374, -0.054518633, -0.032193583, 0.012214668, -0.027680902, 0.013244881, -0.08116603, -0.00080725545, -0.05944036, -0.039799068, -0.0354096, -0.035200007, -0.008405238, -0.019372841, 0.043796696, -0.02768993, 0.019543, 0.012096528, -0.02424325, 0.0035614965, -0.02139576, 0.03812713, 0.010987685, 0.012348907, -0.001470073, 0.0035699387, 0.035790965, -0.03577574, -0.0229432, -0.02419167, -0.029072221, -0.0015984504, 0.008707856, -0.05447768, 0.049084414, -0.03428806, -0.010604306, -0.0072178403, -0.023309706, 0.026729358, 0.0022728075, 0.015756905, 0.021103969, -0.02176031, -0.00048174665, 0.0033718164, 0.030707847, -0.014185119, -0.0054087606, -0.03822731, -0.032632727, -0.020228662, -0.004862401, -0.06614984, 0.028199345, -0.0055603385, 0.03800339, 0.0019843895, -0.00502431, 0.029139604, -0.0055206153, 0.049301546, -0.07021827, 0.015328609, 0.03072731, -0.029132398, 0.023212658, 0.03578276, 0.0002943156, -0.023241052, 0.023334734, 0.05423945, -0.034142602, 0.003300972, -0.015026961, 0.04898204, 0.02393211, -0.02953882, 0.0045122625, -0.05325929, -0.026594138, 0.04130242, -0.06079608, -0.00091240724, 0.04086079, -0.041973025, 0.032865994, -0.024315298, 0.05760358, -0.057516742, 0.009772675, 0.01607774, 0.028540922, 0.04021049, 0.017768862, 0.023045523, -0.0067568365, 0.04836597, -0.02013181, 0.043924697, 0.031092672, -0.034991156, -0.017775308, -0.010326099, -0.050474286, 0.011598874, -0.006200604, -0.0036268167, 0.0152180195, 0.039242037, -0.068003386, 0.035964787, -0.042587895, -0.01309629, -0.020217342, 0.014122703, -0.029361337, 0.031064754, -0.008468126, -0.049505197, 0.028337382, 0.07555577, 0.031310394, -0.00984709, -0.023825109, 0.06492985, -0.022968184, 0.039778724, 0.030026633, 0.03358369, 0.005347664, 0.023688912, 0.006186673, -0.08471245, -0.027377125, -0.040277362, 0.0016851599, 0.054516036, 0.0025871953, 0.053197615, 0.0486945, 0.03111634, 0.00047299478, 0.056765195, 0.052083947, -0.01055432, 0.016751016, -0.04498984, 0.051966567, 0.021964213, 0.00038623315, 0.015031766, -0.035769656, 0.005058046, -0.039734095, 0.011373724, -0.07176326, -0.010259186, -0.028124768, 0.04252634, 0.0035374193, 0.0449518, 0.016233902, -0.036773864, -0.012164244, -0.01700377, 0.027543709, 0.0015896895, -0.040059663, 0.013646567, -0.030737355, -0.005265586, -0.017818702, 0.08008848, -0.019391118, -0.033762474, -0.029563932, -0.009768937, 0.0057688598, 0.0349242, 0.00869407, 0.025623374, -0.0059947767, -0.03937809, -0.02025559, 0.07160745, 0.009805665, 0.033564523, 0.07844149, 0.021099081, 0.036602993, -0.033634108, -0.0031821919, 0.021789102, 0.014154846, 0.022240022, -0.017484166, -0.07139522, -0.0052930354, 0.009243217, -0.012032891, -0.0528631, 0.07389594, 0.0059056897, -0.0482136, -0.04966584, -0.02904985, -0.009966037, 0.010311824, 0.020334505, 0.02498867, 0.035752427, 0.004195285, 0.0043764887, -0.024288747, 0.04298808, -0.027785279, -0.031260367, 0.014057145, -0.0063584303, 0.0062735737, -0.03439443, -0.01072479, -0.07631052, -0.050513707, -0.015779713, 0.04970245, -0.092844166, 0.013184124, 0.08492224, -0.01329981, 0.040488284, 0.04082259, -0.011322744, 0.049758658, 0.021690983, -0.017725553, -0.038566492, -0.03310929, -0.025546081, -0.011430963, -0.046805162, 0.013971722, 0.028933302, -0.00935636, -0.014354094, -0.051485762, -0.015337248, -0.033193417, 0.008521848, 0.012947798, 0.04464141, 0.015978545, 0.016133705, -0.011033314, 0.0023392236, 0.031938992, -0.02031653, -0.0074713547, -0.017937034, 0.014471445, -0.010139412, 0.019156767, 0.032286085, 0.026526904, 0.034237396, 0.027730066, 0.05169989, -0.025138065, -0.028128177, 0.05090405, -0.022308012, -0.07136101, 0.017983109, 0.024762886, -0.012775058, 0.070368044, 0.023499843, -0.0049476866, -0.0016892608, -0.02543458, -0.018210279, 0.089127816, -0.039363954, 0.014728599, -0.035170723, -0.013569249, 0.077595554, -0.026584802, -0.013696852, 0.0078030536, -0.0530938, 0.05513364, -0.004372475, 0.04439526, -0.0022196292, -0.07459715, -0.06301822, -0.033280037, -0.021801522, 0.056861755, 0.00869431, -0.033814874, -0.024118116, -0.0348677, -0.026102476, -0.014586799, -0.0361743, 0.005968273, -0.0272255, 0.017654717, 0.04645034, -0.015810123, 0.016310668, -0.04610784, 0.020452995, 0.03248642, -0.040900372, -0.0120893475, 0.022601034, -0.029360943, 0.012782613, 0.07116466, -0.03420088, 0.0006155206]}\n"
          ]
        }
      ]
    },
    {
      "cell_type": "markdown",
      "source": [
        "Listar os Documentos a serem utilizados para a busca do Embedding"
      ],
      "metadata": {
        "id": "zN_QjMZs4cep"
      }
    },
    {
      "cell_type": "code",
      "source": [
        "DOCUMENT1 = {\n",
        "    \"Título\": \"71360 LEGO® Super Mario™ Aventuras com Mario\",\n",
        "    \"Descrição\": \"As crianças podem juntar-se à sua personagem favorita no mundo real com este set LEGO® Super Mario™ Aventuras com Mario - Pack Inicial (71360). O set contém uma figura LEGO Mario™ que dá respostas expressivas instantâneas através dos ecrãs LCD e coluna. Os jogadores ganham moedas virtuais movendo LEGO Mario do Cano Inicial para a Bandeira de Fim de Etapa através de plataformas giratórias e de nuvem, do bloco ? e super combates com as figuras de Goomba e Bowser Jr. Reorganiza as peças para criar novos níveis para dominares.Jogo melhoradoEste presente para crianças disponibiliza uma app grátis LEGO Super Mario para jogo melhorado. Tem ferramentas para zoom e rotação para visualizar e tornar a construção mais fácil, sugere outras formas criativas para construir e jogar, e é um fórum seguro para partilhar ideias com amigos. Mario ilimitado!Ideais para jogar sozinho ou para competições de grupo, os sets LEGO Super Mario trazem uma personagem favorita familiar para o mundo real. Este Pack Inicial e os sets de expansão oferecem desafios ilimitados e estimulam as habilidades de resolução de problemas.\"\n",
        "}\n",
        "DOCUMENT2 = {\n",
        "    \"Título\": \"Nintendo Switch OLED\",\n",
        "    \"Descrição\": \"Inovador e versátil, o Nintendo Switch OLED veio para trazer ainda mais imersão à sua experiência ao jogar. Com a tela de 7 polegadas OLED e o áudio aprimorado, você pode sentir as cores vibrarem e os sons ressoarem. Desenvolvido para ser um console portátil e doméstico, o Nintendo Switch se desdobra em 3 modos: modo TV, modo semiportátil e modo portátil. Seus controles, os Joy-Con, também são adaptáveis e podem ser compartilhados, ou explorados da melhor forma, quando você estiver jogando sozinho. A bateria do video game possui entre 4.5 horas e 9 horas de autonomia, permitindo que você aproveite cada jogo ao máximo, podendo ser carregada enquanto joga. Além disso, o armazenamento extenso, de 64GB, permite que você não limite sua biblioteca de games e experiencia o que desejar. Estão inclusos na caixa do seu Nintendo Switch: dois Joy-Con (esquerdo e direito), um suporte para Joy-Con, um console Nintendo Switch, uma base, duas alças Joy-Con e um adaptador CA.\"\n",
        "}\n",
        "DOCUMENT3 = {\n",
        "    \"Título\": \"Blocos Mega M-Bricks\",\n",
        "    \"Descrição\": \"Kit com 93 blocos coloridos para montar e desmontar. Diversos formatos e rodinhas. A embalagem é uma sacola com zíper para guardar os blocos. Maral é uma empresa que você pode confiar! Todos os produtos da Maral dão ao seu filho um bom atendimento, conforto e mantém seu bebê feliz. Por favor, leia as instruções do cuidado corretamente antes do uso.\"\n",
        "}\n",
        "\n",
        "documents = [DOCUMENT1, DOCUMENT2, DOCUMENT3]"
      ],
      "metadata": {
        "id": "Y-osuaJz4YAt"
      },
      "execution_count": 5,
      "outputs": []
    },
    {
      "cell_type": "markdown",
      "source": [
        "Inserindo os dataframes através do Pandas"
      ],
      "metadata": {
        "id": "Yh8FPMh_77w0"
      }
    },
    {
      "cell_type": "code",
      "source": [
        "df = pd.DataFrame(documents)\n",
        "df.columns = [\"Nome do Produto\", \"Descrição\"]\n",
        "df"
      ],
      "metadata": {
        "colab": {
          "base_uri": "https://localhost:8080/",
          "height": 143
        },
        "id": "jSH2cDh279TF",
        "outputId": "13cf0bc5-014b-4aa9-d0e6-a1ae213f3323"
      },
      "execution_count": 6,
      "outputs": [
        {
          "output_type": "execute_result",
          "data": {
            "text/plain": [
              "                                Nome do Produto  \\\n",
              "0  71360 LEGO® Super Mario™ Aventuras com Mario   \n",
              "1                          Nintendo Switch OLED   \n",
              "2                          Blocos Mega M-Bricks   \n",
              "\n",
              "                                           Descrição  \n",
              "0  As crianças podem juntar-se à sua personagem f...  \n",
              "1  Inovador e versátil, o Nintendo Switch OLED ve...  \n",
              "2  Kit com 93 blocos coloridos para montar e desm...  "
            ],
            "text/html": [
              "\n",
              "  <div id=\"df-dc51caec-7fe1-4beb-affb-e2a2d8faab1a\" class=\"colab-df-container\">\n",
              "    <div>\n",
              "<style scoped>\n",
              "    .dataframe tbody tr th:only-of-type {\n",
              "        vertical-align: middle;\n",
              "    }\n",
              "\n",
              "    .dataframe tbody tr th {\n",
              "        vertical-align: top;\n",
              "    }\n",
              "\n",
              "    .dataframe thead th {\n",
              "        text-align: right;\n",
              "    }\n",
              "</style>\n",
              "<table border=\"1\" class=\"dataframe\">\n",
              "  <thead>\n",
              "    <tr style=\"text-align: right;\">\n",
              "      <th></th>\n",
              "      <th>Nome do Produto</th>\n",
              "      <th>Descrição</th>\n",
              "    </tr>\n",
              "  </thead>\n",
              "  <tbody>\n",
              "    <tr>\n",
              "      <th>0</th>\n",
              "      <td>71360 LEGO® Super Mario™ Aventuras com Mario</td>\n",
              "      <td>As crianças podem juntar-se à sua personagem f...</td>\n",
              "    </tr>\n",
              "    <tr>\n",
              "      <th>1</th>\n",
              "      <td>Nintendo Switch OLED</td>\n",
              "      <td>Inovador e versátil, o Nintendo Switch OLED ve...</td>\n",
              "    </tr>\n",
              "    <tr>\n",
              "      <th>2</th>\n",
              "      <td>Blocos Mega M-Bricks</td>\n",
              "      <td>Kit com 93 blocos coloridos para montar e desm...</td>\n",
              "    </tr>\n",
              "  </tbody>\n",
              "</table>\n",
              "</div>\n",
              "    <div class=\"colab-df-buttons\">\n",
              "\n",
              "  <div class=\"colab-df-container\">\n",
              "    <button class=\"colab-df-convert\" onclick=\"convertToInteractive('df-dc51caec-7fe1-4beb-affb-e2a2d8faab1a')\"\n",
              "            title=\"Convert this dataframe to an interactive table.\"\n",
              "            style=\"display:none;\">\n",
              "\n",
              "  <svg xmlns=\"http://www.w3.org/2000/svg\" height=\"24px\" viewBox=\"0 -960 960 960\">\n",
              "    <path d=\"M120-120v-720h720v720H120Zm60-500h600v-160H180v160Zm220 220h160v-160H400v160Zm0 220h160v-160H400v160ZM180-400h160v-160H180v160Zm440 0h160v-160H620v160ZM180-180h160v-160H180v160Zm440 0h160v-160H620v160Z\"/>\n",
              "  </svg>\n",
              "    </button>\n",
              "\n",
              "  <style>\n",
              "    .colab-df-container {\n",
              "      display:flex;\n",
              "      gap: 12px;\n",
              "    }\n",
              "\n",
              "    .colab-df-convert {\n",
              "      background-color: #E8F0FE;\n",
              "      border: none;\n",
              "      border-radius: 50%;\n",
              "      cursor: pointer;\n",
              "      display: none;\n",
              "      fill: #1967D2;\n",
              "      height: 32px;\n",
              "      padding: 0 0 0 0;\n",
              "      width: 32px;\n",
              "    }\n",
              "\n",
              "    .colab-df-convert:hover {\n",
              "      background-color: #E2EBFA;\n",
              "      box-shadow: 0px 1px 2px rgba(60, 64, 67, 0.3), 0px 1px 3px 1px rgba(60, 64, 67, 0.15);\n",
              "      fill: #174EA6;\n",
              "    }\n",
              "\n",
              "    .colab-df-buttons div {\n",
              "      margin-bottom: 4px;\n",
              "    }\n",
              "\n",
              "    [theme=dark] .colab-df-convert {\n",
              "      background-color: #3B4455;\n",
              "      fill: #D2E3FC;\n",
              "    }\n",
              "\n",
              "    [theme=dark] .colab-df-convert:hover {\n",
              "      background-color: #434B5C;\n",
              "      box-shadow: 0px 1px 3px 1px rgba(0, 0, 0, 0.15);\n",
              "      filter: drop-shadow(0px 1px 2px rgba(0, 0, 0, 0.3));\n",
              "      fill: #FFFFFF;\n",
              "    }\n",
              "  </style>\n",
              "\n",
              "    <script>\n",
              "      const buttonEl =\n",
              "        document.querySelector('#df-dc51caec-7fe1-4beb-affb-e2a2d8faab1a button.colab-df-convert');\n",
              "      buttonEl.style.display =\n",
              "        google.colab.kernel.accessAllowed ? 'block' : 'none';\n",
              "\n",
              "      async function convertToInteractive(key) {\n",
              "        const element = document.querySelector('#df-dc51caec-7fe1-4beb-affb-e2a2d8faab1a');\n",
              "        const dataTable =\n",
              "          await google.colab.kernel.invokeFunction('convertToInteractive',\n",
              "                                                    [key], {});\n",
              "        if (!dataTable) return;\n",
              "\n",
              "        const docLinkHtml = 'Like what you see? Visit the ' +\n",
              "          '<a target=\"_blank\" href=https://colab.research.google.com/notebooks/data_table.ipynb>data table notebook</a>'\n",
              "          + ' to learn more about interactive tables.';\n",
              "        element.innerHTML = '';\n",
              "        dataTable['output_type'] = 'display_data';\n",
              "        await google.colab.output.renderOutput(dataTable, element);\n",
              "        const docLink = document.createElement('div');\n",
              "        docLink.innerHTML = docLinkHtml;\n",
              "        element.appendChild(docLink);\n",
              "      }\n",
              "    </script>\n",
              "  </div>\n",
              "\n",
              "\n",
              "<div id=\"df-8890df51-dc2a-4d64-a41b-d35ebc2f04fd\">\n",
              "  <button class=\"colab-df-quickchart\" onclick=\"quickchart('df-8890df51-dc2a-4d64-a41b-d35ebc2f04fd')\"\n",
              "            title=\"Suggest charts\"\n",
              "            style=\"display:none;\">\n",
              "\n",
              "<svg xmlns=\"http://www.w3.org/2000/svg\" height=\"24px\"viewBox=\"0 0 24 24\"\n",
              "     width=\"24px\">\n",
              "    <g>\n",
              "        <path d=\"M19 3H5c-1.1 0-2 .9-2 2v14c0 1.1.9 2 2 2h14c1.1 0 2-.9 2-2V5c0-1.1-.9-2-2-2zM9 17H7v-7h2v7zm4 0h-2V7h2v10zm4 0h-2v-4h2v4z\"/>\n",
              "    </g>\n",
              "</svg>\n",
              "  </button>\n",
              "\n",
              "<style>\n",
              "  .colab-df-quickchart {\n",
              "      --bg-color: #E8F0FE;\n",
              "      --fill-color: #1967D2;\n",
              "      --hover-bg-color: #E2EBFA;\n",
              "      --hover-fill-color: #174EA6;\n",
              "      --disabled-fill-color: #AAA;\n",
              "      --disabled-bg-color: #DDD;\n",
              "  }\n",
              "\n",
              "  [theme=dark] .colab-df-quickchart {\n",
              "      --bg-color: #3B4455;\n",
              "      --fill-color: #D2E3FC;\n",
              "      --hover-bg-color: #434B5C;\n",
              "      --hover-fill-color: #FFFFFF;\n",
              "      --disabled-bg-color: #3B4455;\n",
              "      --disabled-fill-color: #666;\n",
              "  }\n",
              "\n",
              "  .colab-df-quickchart {\n",
              "    background-color: var(--bg-color);\n",
              "    border: none;\n",
              "    border-radius: 50%;\n",
              "    cursor: pointer;\n",
              "    display: none;\n",
              "    fill: var(--fill-color);\n",
              "    height: 32px;\n",
              "    padding: 0;\n",
              "    width: 32px;\n",
              "  }\n",
              "\n",
              "  .colab-df-quickchart:hover {\n",
              "    background-color: var(--hover-bg-color);\n",
              "    box-shadow: 0 1px 2px rgba(60, 64, 67, 0.3), 0 1px 3px 1px rgba(60, 64, 67, 0.15);\n",
              "    fill: var(--button-hover-fill-color);\n",
              "  }\n",
              "\n",
              "  .colab-df-quickchart-complete:disabled,\n",
              "  .colab-df-quickchart-complete:disabled:hover {\n",
              "    background-color: var(--disabled-bg-color);\n",
              "    fill: var(--disabled-fill-color);\n",
              "    box-shadow: none;\n",
              "  }\n",
              "\n",
              "  .colab-df-spinner {\n",
              "    border: 2px solid var(--fill-color);\n",
              "    border-color: transparent;\n",
              "    border-bottom-color: var(--fill-color);\n",
              "    animation:\n",
              "      spin 1s steps(1) infinite;\n",
              "  }\n",
              "\n",
              "  @keyframes spin {\n",
              "    0% {\n",
              "      border-color: transparent;\n",
              "      border-bottom-color: var(--fill-color);\n",
              "      border-left-color: var(--fill-color);\n",
              "    }\n",
              "    20% {\n",
              "      border-color: transparent;\n",
              "      border-left-color: var(--fill-color);\n",
              "      border-top-color: var(--fill-color);\n",
              "    }\n",
              "    30% {\n",
              "      border-color: transparent;\n",
              "      border-left-color: var(--fill-color);\n",
              "      border-top-color: var(--fill-color);\n",
              "      border-right-color: var(--fill-color);\n",
              "    }\n",
              "    40% {\n",
              "      border-color: transparent;\n",
              "      border-right-color: var(--fill-color);\n",
              "      border-top-color: var(--fill-color);\n",
              "    }\n",
              "    60% {\n",
              "      border-color: transparent;\n",
              "      border-right-color: var(--fill-color);\n",
              "    }\n",
              "    80% {\n",
              "      border-color: transparent;\n",
              "      border-right-color: var(--fill-color);\n",
              "      border-bottom-color: var(--fill-color);\n",
              "    }\n",
              "    90% {\n",
              "      border-color: transparent;\n",
              "      border-bottom-color: var(--fill-color);\n",
              "    }\n",
              "  }\n",
              "</style>\n",
              "\n",
              "  <script>\n",
              "    async function quickchart(key) {\n",
              "      const quickchartButtonEl =\n",
              "        document.querySelector('#' + key + ' button');\n",
              "      quickchartButtonEl.disabled = true;  // To prevent multiple clicks.\n",
              "      quickchartButtonEl.classList.add('colab-df-spinner');\n",
              "      try {\n",
              "        const charts = await google.colab.kernel.invokeFunction(\n",
              "            'suggestCharts', [key], {});\n",
              "      } catch (error) {\n",
              "        console.error('Error during call to suggestCharts:', error);\n",
              "      }\n",
              "      quickchartButtonEl.classList.remove('colab-df-spinner');\n",
              "      quickchartButtonEl.classList.add('colab-df-quickchart-complete');\n",
              "    }\n",
              "    (() => {\n",
              "      let quickchartButtonEl =\n",
              "        document.querySelector('#df-8890df51-dc2a-4d64-a41b-d35ebc2f04fd button');\n",
              "      quickchartButtonEl.style.display =\n",
              "        google.colab.kernel.accessAllowed ? 'block' : 'none';\n",
              "    })();\n",
              "  </script>\n",
              "</div>\n",
              "\n",
              "  <div id=\"id_b133451a-157e-43ef-8eed-911d495697b8\">\n",
              "    <style>\n",
              "      .colab-df-generate {\n",
              "        background-color: #E8F0FE;\n",
              "        border: none;\n",
              "        border-radius: 50%;\n",
              "        cursor: pointer;\n",
              "        display: none;\n",
              "        fill: #1967D2;\n",
              "        height: 32px;\n",
              "        padding: 0 0 0 0;\n",
              "        width: 32px;\n",
              "      }\n",
              "\n",
              "      .colab-df-generate:hover {\n",
              "        background-color: #E2EBFA;\n",
              "        box-shadow: 0px 1px 2px rgba(60, 64, 67, 0.3), 0px 1px 3px 1px rgba(60, 64, 67, 0.15);\n",
              "        fill: #174EA6;\n",
              "      }\n",
              "\n",
              "      [theme=dark] .colab-df-generate {\n",
              "        background-color: #3B4455;\n",
              "        fill: #D2E3FC;\n",
              "      }\n",
              "\n",
              "      [theme=dark] .colab-df-generate:hover {\n",
              "        background-color: #434B5C;\n",
              "        box-shadow: 0px 1px 3px 1px rgba(0, 0, 0, 0.15);\n",
              "        filter: drop-shadow(0px 1px 2px rgba(0, 0, 0, 0.3));\n",
              "        fill: #FFFFFF;\n",
              "      }\n",
              "    </style>\n",
              "    <button class=\"colab-df-generate\" onclick=\"generateWithVariable('df')\"\n",
              "            title=\"Generate code using this dataframe.\"\n",
              "            style=\"display:none;\">\n",
              "\n",
              "  <svg xmlns=\"http://www.w3.org/2000/svg\" height=\"24px\"viewBox=\"0 0 24 24\"\n",
              "       width=\"24px\">\n",
              "    <path d=\"M7,19H8.4L18.45,9,17,7.55,7,17.6ZM5,21V16.75L18.45,3.32a2,2,0,0,1,2.83,0l1.4,1.43a1.91,1.91,0,0,1,.58,1.4,1.91,1.91,0,0,1-.58,1.4L9.25,21ZM18.45,9,17,7.55Zm-12,3A5.31,5.31,0,0,0,4.9,8.1,5.31,5.31,0,0,0,1,6.5,5.31,5.31,0,0,0,4.9,4.9,5.31,5.31,0,0,0,6.5,1,5.31,5.31,0,0,0,8.1,4.9,5.31,5.31,0,0,0,12,6.5,5.46,5.46,0,0,0,6.5,12Z\"/>\n",
              "  </svg>\n",
              "    </button>\n",
              "    <script>\n",
              "      (() => {\n",
              "      const buttonEl =\n",
              "        document.querySelector('#id_b133451a-157e-43ef-8eed-911d495697b8 button.colab-df-generate');\n",
              "      buttonEl.style.display =\n",
              "        google.colab.kernel.accessAllowed ? 'block' : 'none';\n",
              "\n",
              "      buttonEl.onclick = () => {\n",
              "        google.colab.notebook.generateWithVariable('df');\n",
              "      }\n",
              "      })();\n",
              "    </script>\n",
              "  </div>\n",
              "\n",
              "    </div>\n",
              "  </div>\n"
            ],
            "application/vnd.google.colaboratory.intrinsic+json": {
              "type": "dataframe",
              "variable_name": "df",
              "summary": "{\n  \"name\": \"df\",\n  \"rows\": 3,\n  \"fields\": [\n    {\n      \"column\": \"Nome do Produto\",\n      \"properties\": {\n        \"dtype\": \"string\",\n        \"num_unique_values\": 3,\n        \"samples\": [\n          \"71360 LEGO\\u00ae Super Mario\\u2122 Aventuras com Mario\",\n          \"Nintendo Switch OLED\",\n          \"Blocos Mega M-Bricks\"\n        ],\n        \"semantic_type\": \"\",\n        \"description\": \"\"\n      }\n    },\n    {\n      \"column\": \"Descri\\u00e7\\u00e3o\",\n      \"properties\": {\n        \"dtype\": \"string\",\n        \"num_unique_values\": 3,\n        \"samples\": [\n          \"As crian\\u00e7as podem juntar-se \\u00e0 sua personagem favorita no mundo real com este set LEGO\\u00ae Super Mario\\u2122 Aventuras com Mario - Pack Inicial (71360). O set cont\\u00e9m uma figura LEGO Mario\\u2122 que d\\u00e1 respostas expressivas instant\\u00e2neas atrav\\u00e9s dos ecr\\u00e3s LCD e coluna. Os jogadores ganham moedas virtuais movendo LEGO Mario do Cano Inicial para a Bandeira de Fim de Etapa atrav\\u00e9s de plataformas girat\\u00f3rias e de nuvem, do bloco ? e super combates com as figuras de Goomba e Bowser Jr. Reorganiza as pe\\u00e7as para criar novos n\\u00edveis para dominares.Jogo melhoradoEste presente para crian\\u00e7as disponibiliza uma app gr\\u00e1tis LEGO Super Mario para jogo melhorado. Tem ferramentas para zoom e rota\\u00e7\\u00e3o para visualizar e tornar a constru\\u00e7\\u00e3o mais f\\u00e1cil, sugere outras formas criativas para construir e jogar, e \\u00e9 um f\\u00f3rum seguro para partilhar ideias com amigos. Mario ilimitado!Ideais para jogar sozinho ou para competi\\u00e7\\u00f5es de grupo, os sets LEGO Super Mario trazem uma personagem favorita familiar para o mundo real. Este Pack Inicial e os sets de expans\\u00e3o oferecem desafios ilimitados e estimulam as habilidades de resolu\\u00e7\\u00e3o de problemas.\",\n          \"Inovador e vers\\u00e1til, o Nintendo Switch OLED veio para trazer ainda mais imers\\u00e3o \\u00e0 sua experi\\u00eancia ao jogar. Com a tela de 7 polegadas OLED e o \\u00e1udio aprimorado, voc\\u00ea pode sentir as cores vibrarem e os sons ressoarem. Desenvolvido para ser um console port\\u00e1til e dom\\u00e9stico, o Nintendo Switch se desdobra em 3 modos: modo TV, modo semiport\\u00e1til e modo port\\u00e1til. Seus controles, os Joy-Con, tamb\\u00e9m s\\u00e3o adapt\\u00e1veis e podem ser compartilhados, ou explorados da melhor forma, quando voc\\u00ea estiver jogando sozinho. A bateria do video game possui entre 4.5 horas e 9 horas de autonomia, permitindo que voc\\u00ea aproveite cada jogo ao m\\u00e1ximo, podendo ser carregada enquanto joga. Al\\u00e9m disso, o armazenamento extenso, de 64GB, permite que voc\\u00ea n\\u00e3o limite sua biblioteca de games e experiencia o que desejar. Est\\u00e3o inclusos na caixa do seu Nintendo Switch: dois Joy-Con (esquerdo e direito), um suporte para Joy-Con, um console Nintendo Switch, uma base, duas al\\u00e7as Joy-Con e um adaptador CA.\",\n          \"Kit com 93 blocos coloridos para montar e desmontar. Diversos formatos e rodinhas. A embalagem \\u00e9 uma sacola com z\\u00edper para guardar os blocos. Maral \\u00e9 uma empresa que voc\\u00ea pode confiar! Todos os produtos da Maral d\\u00e3o ao seu filho um bom atendimento, conforto e mant\\u00e9m seu beb\\u00ea feliz. Por favor, leia as instru\\u00e7\\u00f5es do cuidado corretamente antes do uso.\"\n        ],\n        \"semantic_type\": \"\",\n        \"description\": \"\"\n      }\n    }\n  ]\n}"
            }
          },
          "metadata": {},
          "execution_count": 6
        }
      ]
    },
    {
      "cell_type": "markdown",
      "source": [
        "Váriavel para receber o modelo do Embedding"
      ],
      "metadata": {
        "id": "oKWSwnzN-Y9f"
      }
    },
    {
      "cell_type": "code",
      "source": [
        "model = \"models/embedding-001\""
      ],
      "metadata": {
        "id": "X1uXUscl9j-b"
      },
      "execution_count": 7,
      "outputs": []
    },
    {
      "cell_type": "markdown",
      "source": [
        "Criando a função do novo Embedding"
      ],
      "metadata": {
        "id": "VihM5rQO-Ssn"
      }
    },
    {
      "cell_type": "code",
      "source": [
        "def embed_fn(title, text):\n",
        "  return  genai.embed_content(model=model,\n",
        "                                 content=text,\n",
        "                                 title=title,\n",
        "                                 task_type=\"RETRIEVAL_DOCUMENT\")[\"embedding\"]"
      ],
      "metadata": {
        "id": "K0bTuYE0-G6x"
      },
      "execution_count": 8,
      "outputs": []
    },
    {
      "cell_type": "markdown",
      "source": [
        "Criando uma nova coluna no dataframe e retornando o valor da função de Embedding"
      ],
      "metadata": {
        "id": "5HE9wD1U_57o"
      }
    },
    {
      "cell_type": "code",
      "source": [
        "df[\"Embeddings\"] = df.apply(lambda row: embed_fn(row[\"Nome do Produto\"], row[\"Descrição\"]), axis=1)\n",
        "df"
      ],
      "metadata": {
        "colab": {
          "base_uri": "https://localhost:8080/",
          "height": 143
        },
        "id": "sZUWcw7M_6cP",
        "outputId": "06569975-722e-4776-89f5-9d50b99d77c5"
      },
      "execution_count": 9,
      "outputs": [
        {
          "output_type": "execute_result",
          "data": {
            "text/plain": [
              "                                Nome do Produto  \\\n",
              "0  71360 LEGO® Super Mario™ Aventuras com Mario   \n",
              "1                          Nintendo Switch OLED   \n",
              "2                          Blocos Mega M-Bricks   \n",
              "\n",
              "                                           Descrição  \\\n",
              "0  As crianças podem juntar-se à sua personagem f...   \n",
              "1  Inovador e versátil, o Nintendo Switch OLED ve...   \n",
              "2  Kit com 93 blocos coloridos para montar e desm...   \n",
              "\n",
              "                                          Embeddings  \n",
              "0  [0.01807183, -0.006066703, -0.015369451, 0.021...  \n",
              "1  [-0.027967092, -0.0020668453, -0.02865933, 0.0...  \n",
              "2  [0.055719648, -0.044798966, -0.022113075, 0.03...  "
            ],
            "text/html": [
              "\n",
              "  <div id=\"df-17c1ed4b-b28c-4bdc-9ac4-f4f5c3e9fec3\" class=\"colab-df-container\">\n",
              "    <div>\n",
              "<style scoped>\n",
              "    .dataframe tbody tr th:only-of-type {\n",
              "        vertical-align: middle;\n",
              "    }\n",
              "\n",
              "    .dataframe tbody tr th {\n",
              "        vertical-align: top;\n",
              "    }\n",
              "\n",
              "    .dataframe thead th {\n",
              "        text-align: right;\n",
              "    }\n",
              "</style>\n",
              "<table border=\"1\" class=\"dataframe\">\n",
              "  <thead>\n",
              "    <tr style=\"text-align: right;\">\n",
              "      <th></th>\n",
              "      <th>Nome do Produto</th>\n",
              "      <th>Descrição</th>\n",
              "      <th>Embeddings</th>\n",
              "    </tr>\n",
              "  </thead>\n",
              "  <tbody>\n",
              "    <tr>\n",
              "      <th>0</th>\n",
              "      <td>71360 LEGO® Super Mario™ Aventuras com Mario</td>\n",
              "      <td>As crianças podem juntar-se à sua personagem f...</td>\n",
              "      <td>[0.01807183, -0.006066703, -0.015369451, 0.021...</td>\n",
              "    </tr>\n",
              "    <tr>\n",
              "      <th>1</th>\n",
              "      <td>Nintendo Switch OLED</td>\n",
              "      <td>Inovador e versátil, o Nintendo Switch OLED ve...</td>\n",
              "      <td>[-0.027967092, -0.0020668453, -0.02865933, 0.0...</td>\n",
              "    </tr>\n",
              "    <tr>\n",
              "      <th>2</th>\n",
              "      <td>Blocos Mega M-Bricks</td>\n",
              "      <td>Kit com 93 blocos coloridos para montar e desm...</td>\n",
              "      <td>[0.055719648, -0.044798966, -0.022113075, 0.03...</td>\n",
              "    </tr>\n",
              "  </tbody>\n",
              "</table>\n",
              "</div>\n",
              "    <div class=\"colab-df-buttons\">\n",
              "\n",
              "  <div class=\"colab-df-container\">\n",
              "    <button class=\"colab-df-convert\" onclick=\"convertToInteractive('df-17c1ed4b-b28c-4bdc-9ac4-f4f5c3e9fec3')\"\n",
              "            title=\"Convert this dataframe to an interactive table.\"\n",
              "            style=\"display:none;\">\n",
              "\n",
              "  <svg xmlns=\"http://www.w3.org/2000/svg\" height=\"24px\" viewBox=\"0 -960 960 960\">\n",
              "    <path d=\"M120-120v-720h720v720H120Zm60-500h600v-160H180v160Zm220 220h160v-160H400v160Zm0 220h160v-160H400v160ZM180-400h160v-160H180v160Zm440 0h160v-160H620v160ZM180-180h160v-160H180v160Zm440 0h160v-160H620v160Z\"/>\n",
              "  </svg>\n",
              "    </button>\n",
              "\n",
              "  <style>\n",
              "    .colab-df-container {\n",
              "      display:flex;\n",
              "      gap: 12px;\n",
              "    }\n",
              "\n",
              "    .colab-df-convert {\n",
              "      background-color: #E8F0FE;\n",
              "      border: none;\n",
              "      border-radius: 50%;\n",
              "      cursor: pointer;\n",
              "      display: none;\n",
              "      fill: #1967D2;\n",
              "      height: 32px;\n",
              "      padding: 0 0 0 0;\n",
              "      width: 32px;\n",
              "    }\n",
              "\n",
              "    .colab-df-convert:hover {\n",
              "      background-color: #E2EBFA;\n",
              "      box-shadow: 0px 1px 2px rgba(60, 64, 67, 0.3), 0px 1px 3px 1px rgba(60, 64, 67, 0.15);\n",
              "      fill: #174EA6;\n",
              "    }\n",
              "\n",
              "    .colab-df-buttons div {\n",
              "      margin-bottom: 4px;\n",
              "    }\n",
              "\n",
              "    [theme=dark] .colab-df-convert {\n",
              "      background-color: #3B4455;\n",
              "      fill: #D2E3FC;\n",
              "    }\n",
              "\n",
              "    [theme=dark] .colab-df-convert:hover {\n",
              "      background-color: #434B5C;\n",
              "      box-shadow: 0px 1px 3px 1px rgba(0, 0, 0, 0.15);\n",
              "      filter: drop-shadow(0px 1px 2px rgba(0, 0, 0, 0.3));\n",
              "      fill: #FFFFFF;\n",
              "    }\n",
              "  </style>\n",
              "\n",
              "    <script>\n",
              "      const buttonEl =\n",
              "        document.querySelector('#df-17c1ed4b-b28c-4bdc-9ac4-f4f5c3e9fec3 button.colab-df-convert');\n",
              "      buttonEl.style.display =\n",
              "        google.colab.kernel.accessAllowed ? 'block' : 'none';\n",
              "\n",
              "      async function convertToInteractive(key) {\n",
              "        const element = document.querySelector('#df-17c1ed4b-b28c-4bdc-9ac4-f4f5c3e9fec3');\n",
              "        const dataTable =\n",
              "          await google.colab.kernel.invokeFunction('convertToInteractive',\n",
              "                                                    [key], {});\n",
              "        if (!dataTable) return;\n",
              "\n",
              "        const docLinkHtml = 'Like what you see? Visit the ' +\n",
              "          '<a target=\"_blank\" href=https://colab.research.google.com/notebooks/data_table.ipynb>data table notebook</a>'\n",
              "          + ' to learn more about interactive tables.';\n",
              "        element.innerHTML = '';\n",
              "        dataTable['output_type'] = 'display_data';\n",
              "        await google.colab.output.renderOutput(dataTable, element);\n",
              "        const docLink = document.createElement('div');\n",
              "        docLink.innerHTML = docLinkHtml;\n",
              "        element.appendChild(docLink);\n",
              "      }\n",
              "    </script>\n",
              "  </div>\n",
              "\n",
              "\n",
              "<div id=\"df-ec2b67f1-6093-45dd-8d33-50df9eac3157\">\n",
              "  <button class=\"colab-df-quickchart\" onclick=\"quickchart('df-ec2b67f1-6093-45dd-8d33-50df9eac3157')\"\n",
              "            title=\"Suggest charts\"\n",
              "            style=\"display:none;\">\n",
              "\n",
              "<svg xmlns=\"http://www.w3.org/2000/svg\" height=\"24px\"viewBox=\"0 0 24 24\"\n",
              "     width=\"24px\">\n",
              "    <g>\n",
              "        <path d=\"M19 3H5c-1.1 0-2 .9-2 2v14c0 1.1.9 2 2 2h14c1.1 0 2-.9 2-2V5c0-1.1-.9-2-2-2zM9 17H7v-7h2v7zm4 0h-2V7h2v10zm4 0h-2v-4h2v4z\"/>\n",
              "    </g>\n",
              "</svg>\n",
              "  </button>\n",
              "\n",
              "<style>\n",
              "  .colab-df-quickchart {\n",
              "      --bg-color: #E8F0FE;\n",
              "      --fill-color: #1967D2;\n",
              "      --hover-bg-color: #E2EBFA;\n",
              "      --hover-fill-color: #174EA6;\n",
              "      --disabled-fill-color: #AAA;\n",
              "      --disabled-bg-color: #DDD;\n",
              "  }\n",
              "\n",
              "  [theme=dark] .colab-df-quickchart {\n",
              "      --bg-color: #3B4455;\n",
              "      --fill-color: #D2E3FC;\n",
              "      --hover-bg-color: #434B5C;\n",
              "      --hover-fill-color: #FFFFFF;\n",
              "      --disabled-bg-color: #3B4455;\n",
              "      --disabled-fill-color: #666;\n",
              "  }\n",
              "\n",
              "  .colab-df-quickchart {\n",
              "    background-color: var(--bg-color);\n",
              "    border: none;\n",
              "    border-radius: 50%;\n",
              "    cursor: pointer;\n",
              "    display: none;\n",
              "    fill: var(--fill-color);\n",
              "    height: 32px;\n",
              "    padding: 0;\n",
              "    width: 32px;\n",
              "  }\n",
              "\n",
              "  .colab-df-quickchart:hover {\n",
              "    background-color: var(--hover-bg-color);\n",
              "    box-shadow: 0 1px 2px rgba(60, 64, 67, 0.3), 0 1px 3px 1px rgba(60, 64, 67, 0.15);\n",
              "    fill: var(--button-hover-fill-color);\n",
              "  }\n",
              "\n",
              "  .colab-df-quickchart-complete:disabled,\n",
              "  .colab-df-quickchart-complete:disabled:hover {\n",
              "    background-color: var(--disabled-bg-color);\n",
              "    fill: var(--disabled-fill-color);\n",
              "    box-shadow: none;\n",
              "  }\n",
              "\n",
              "  .colab-df-spinner {\n",
              "    border: 2px solid var(--fill-color);\n",
              "    border-color: transparent;\n",
              "    border-bottom-color: var(--fill-color);\n",
              "    animation:\n",
              "      spin 1s steps(1) infinite;\n",
              "  }\n",
              "\n",
              "  @keyframes spin {\n",
              "    0% {\n",
              "      border-color: transparent;\n",
              "      border-bottom-color: var(--fill-color);\n",
              "      border-left-color: var(--fill-color);\n",
              "    }\n",
              "    20% {\n",
              "      border-color: transparent;\n",
              "      border-left-color: var(--fill-color);\n",
              "      border-top-color: var(--fill-color);\n",
              "    }\n",
              "    30% {\n",
              "      border-color: transparent;\n",
              "      border-left-color: var(--fill-color);\n",
              "      border-top-color: var(--fill-color);\n",
              "      border-right-color: var(--fill-color);\n",
              "    }\n",
              "    40% {\n",
              "      border-color: transparent;\n",
              "      border-right-color: var(--fill-color);\n",
              "      border-top-color: var(--fill-color);\n",
              "    }\n",
              "    60% {\n",
              "      border-color: transparent;\n",
              "      border-right-color: var(--fill-color);\n",
              "    }\n",
              "    80% {\n",
              "      border-color: transparent;\n",
              "      border-right-color: var(--fill-color);\n",
              "      border-bottom-color: var(--fill-color);\n",
              "    }\n",
              "    90% {\n",
              "      border-color: transparent;\n",
              "      border-bottom-color: var(--fill-color);\n",
              "    }\n",
              "  }\n",
              "</style>\n",
              "\n",
              "  <script>\n",
              "    async function quickchart(key) {\n",
              "      const quickchartButtonEl =\n",
              "        document.querySelector('#' + key + ' button');\n",
              "      quickchartButtonEl.disabled = true;  // To prevent multiple clicks.\n",
              "      quickchartButtonEl.classList.add('colab-df-spinner');\n",
              "      try {\n",
              "        const charts = await google.colab.kernel.invokeFunction(\n",
              "            'suggestCharts', [key], {});\n",
              "      } catch (error) {\n",
              "        console.error('Error during call to suggestCharts:', error);\n",
              "      }\n",
              "      quickchartButtonEl.classList.remove('colab-df-spinner');\n",
              "      quickchartButtonEl.classList.add('colab-df-quickchart-complete');\n",
              "    }\n",
              "    (() => {\n",
              "      let quickchartButtonEl =\n",
              "        document.querySelector('#df-ec2b67f1-6093-45dd-8d33-50df9eac3157 button');\n",
              "      quickchartButtonEl.style.display =\n",
              "        google.colab.kernel.accessAllowed ? 'block' : 'none';\n",
              "    })();\n",
              "  </script>\n",
              "</div>\n",
              "\n",
              "  <div id=\"id_cc52460c-f457-43ed-afab-74657464a89d\">\n",
              "    <style>\n",
              "      .colab-df-generate {\n",
              "        background-color: #E8F0FE;\n",
              "        border: none;\n",
              "        border-radius: 50%;\n",
              "        cursor: pointer;\n",
              "        display: none;\n",
              "        fill: #1967D2;\n",
              "        height: 32px;\n",
              "        padding: 0 0 0 0;\n",
              "        width: 32px;\n",
              "      }\n",
              "\n",
              "      .colab-df-generate:hover {\n",
              "        background-color: #E2EBFA;\n",
              "        box-shadow: 0px 1px 2px rgba(60, 64, 67, 0.3), 0px 1px 3px 1px rgba(60, 64, 67, 0.15);\n",
              "        fill: #174EA6;\n",
              "      }\n",
              "\n",
              "      [theme=dark] .colab-df-generate {\n",
              "        background-color: #3B4455;\n",
              "        fill: #D2E3FC;\n",
              "      }\n",
              "\n",
              "      [theme=dark] .colab-df-generate:hover {\n",
              "        background-color: #434B5C;\n",
              "        box-shadow: 0px 1px 3px 1px rgba(0, 0, 0, 0.15);\n",
              "        filter: drop-shadow(0px 1px 2px rgba(0, 0, 0, 0.3));\n",
              "        fill: #FFFFFF;\n",
              "      }\n",
              "    </style>\n",
              "    <button class=\"colab-df-generate\" onclick=\"generateWithVariable('df')\"\n",
              "            title=\"Generate code using this dataframe.\"\n",
              "            style=\"display:none;\">\n",
              "\n",
              "  <svg xmlns=\"http://www.w3.org/2000/svg\" height=\"24px\"viewBox=\"0 0 24 24\"\n",
              "       width=\"24px\">\n",
              "    <path d=\"M7,19H8.4L18.45,9,17,7.55,7,17.6ZM5,21V16.75L18.45,3.32a2,2,0,0,1,2.83,0l1.4,1.43a1.91,1.91,0,0,1,.58,1.4,1.91,1.91,0,0,1-.58,1.4L9.25,21ZM18.45,9,17,7.55Zm-12,3A5.31,5.31,0,0,0,4.9,8.1,5.31,5.31,0,0,0,1,6.5,5.31,5.31,0,0,0,4.9,4.9,5.31,5.31,0,0,0,6.5,1,5.31,5.31,0,0,0,8.1,4.9,5.31,5.31,0,0,0,12,6.5,5.46,5.46,0,0,0,6.5,12Z\"/>\n",
              "  </svg>\n",
              "    </button>\n",
              "    <script>\n",
              "      (() => {\n",
              "      const buttonEl =\n",
              "        document.querySelector('#id_cc52460c-f457-43ed-afab-74657464a89d button.colab-df-generate');\n",
              "      buttonEl.style.display =\n",
              "        google.colab.kernel.accessAllowed ? 'block' : 'none';\n",
              "\n",
              "      buttonEl.onclick = () => {\n",
              "        google.colab.notebook.generateWithVariable('df');\n",
              "      }\n",
              "      })();\n",
              "    </script>\n",
              "  </div>\n",
              "\n",
              "    </div>\n",
              "  </div>\n"
            ],
            "application/vnd.google.colaboratory.intrinsic+json": {
              "type": "dataframe",
              "variable_name": "df",
              "summary": "{\n  \"name\": \"df\",\n  \"rows\": 3,\n  \"fields\": [\n    {\n      \"column\": \"Nome do Produto\",\n      \"properties\": {\n        \"dtype\": \"string\",\n        \"num_unique_values\": 3,\n        \"samples\": [\n          \"71360 LEGO\\u00ae Super Mario\\u2122 Aventuras com Mario\",\n          \"Nintendo Switch OLED\",\n          \"Blocos Mega M-Bricks\"\n        ],\n        \"semantic_type\": \"\",\n        \"description\": \"\"\n      }\n    },\n    {\n      \"column\": \"Descri\\u00e7\\u00e3o\",\n      \"properties\": {\n        \"dtype\": \"string\",\n        \"num_unique_values\": 3,\n        \"samples\": [\n          \"As crian\\u00e7as podem juntar-se \\u00e0 sua personagem favorita no mundo real com este set LEGO\\u00ae Super Mario\\u2122 Aventuras com Mario - Pack Inicial (71360). O set cont\\u00e9m uma figura LEGO Mario\\u2122 que d\\u00e1 respostas expressivas instant\\u00e2neas atrav\\u00e9s dos ecr\\u00e3s LCD e coluna. Os jogadores ganham moedas virtuais movendo LEGO Mario do Cano Inicial para a Bandeira de Fim de Etapa atrav\\u00e9s de plataformas girat\\u00f3rias e de nuvem, do bloco ? e super combates com as figuras de Goomba e Bowser Jr. Reorganiza as pe\\u00e7as para criar novos n\\u00edveis para dominares.Jogo melhoradoEste presente para crian\\u00e7as disponibiliza uma app gr\\u00e1tis LEGO Super Mario para jogo melhorado. Tem ferramentas para zoom e rota\\u00e7\\u00e3o para visualizar e tornar a constru\\u00e7\\u00e3o mais f\\u00e1cil, sugere outras formas criativas para construir e jogar, e \\u00e9 um f\\u00f3rum seguro para partilhar ideias com amigos. Mario ilimitado!Ideais para jogar sozinho ou para competi\\u00e7\\u00f5es de grupo, os sets LEGO Super Mario trazem uma personagem favorita familiar para o mundo real. Este Pack Inicial e os sets de expans\\u00e3o oferecem desafios ilimitados e estimulam as habilidades de resolu\\u00e7\\u00e3o de problemas.\",\n          \"Inovador e vers\\u00e1til, o Nintendo Switch OLED veio para trazer ainda mais imers\\u00e3o \\u00e0 sua experi\\u00eancia ao jogar. Com a tela de 7 polegadas OLED e o \\u00e1udio aprimorado, voc\\u00ea pode sentir as cores vibrarem e os sons ressoarem. Desenvolvido para ser um console port\\u00e1til e dom\\u00e9stico, o Nintendo Switch se desdobra em 3 modos: modo TV, modo semiport\\u00e1til e modo port\\u00e1til. Seus controles, os Joy-Con, tamb\\u00e9m s\\u00e3o adapt\\u00e1veis e podem ser compartilhados, ou explorados da melhor forma, quando voc\\u00ea estiver jogando sozinho. A bateria do video game possui entre 4.5 horas e 9 horas de autonomia, permitindo que voc\\u00ea aproveite cada jogo ao m\\u00e1ximo, podendo ser carregada enquanto joga. Al\\u00e9m disso, o armazenamento extenso, de 64GB, permite que voc\\u00ea n\\u00e3o limite sua biblioteca de games e experiencia o que desejar. Est\\u00e3o inclusos na caixa do seu Nintendo Switch: dois Joy-Con (esquerdo e direito), um suporte para Joy-Con, um console Nintendo Switch, uma base, duas al\\u00e7as Joy-Con e um adaptador CA.\",\n          \"Kit com 93 blocos coloridos para montar e desmontar. Diversos formatos e rodinhas. A embalagem \\u00e9 uma sacola com z\\u00edper para guardar os blocos. Maral \\u00e9 uma empresa que voc\\u00ea pode confiar! Todos os produtos da Maral d\\u00e3o ao seu filho um bom atendimento, conforto e mant\\u00e9m seu beb\\u00ea feliz. Por favor, leia as instru\\u00e7\\u00f5es do cuidado corretamente antes do uso.\"\n        ],\n        \"semantic_type\": \"\",\n        \"description\": \"\"\n      }\n    },\n    {\n      \"column\": \"Embeddings\",\n      \"properties\": {\n        \"dtype\": \"object\",\n        \"semantic_type\": \"\",\n        \"description\": \"\"\n      }\n    }\n  ]\n}"
            }
          },
          "metadata": {},
          "execution_count": 9
        }
      ]
    },
    {
      "cell_type": "markdown",
      "source": [
        "Criando a busca do Embedding e escalando os produtos através do Numpy"
      ],
      "metadata": {
        "id": "S641EpqIEmLZ"
      }
    },
    {
      "cell_type": "code",
      "source": [
        "def gerar_e_buscar_consulta(consulta, base, model):\n",
        "  embedding_da_consulta = genai.embed_content(model=model,\n",
        "                                 content=consulta,\n",
        "                                 task_type=\"RETRIEVAL_QUERY\")[\"embedding\"]\n",
        "\n",
        "  produtos_escalares = np.dot(np.stack(df[\"Embeddings\"]), embedding_da_consulta)\n",
        "\n",
        "  indice = np.argmax(produtos_escalares)\n",
        "  return df.iloc[indice][\"Descrição\"]"
      ],
      "metadata": {
        "id": "1AdcEKBSCtmA"
      },
      "execution_count": 10,
      "outputs": []
    },
    {
      "cell_type": "markdown",
      "source": [
        "Criando uma consulta"
      ],
      "metadata": {
        "id": "aVjeMbDsJZVX"
      }
    },
    {
      "cell_type": "code",
      "source": [
        "consulta = \"Qual o brinquedo ideal pra estimular a criatividade?\"\n",
        "\n",
        "trecho = gerar_e_buscar_consulta(consulta, df, model)\n",
        "print(trecho)"
      ],
      "metadata": {
        "colab": {
          "base_uri": "https://localhost:8080/",
          "height": 55
        },
        "id": "MLbrE8mCJapC",
        "outputId": "52c675ff-2f5c-4b42-d312-b611a2bf608f"
      },
      "execution_count": 11,
      "outputs": [
        {
          "output_type": "stream",
          "name": "stdout",
          "text": [
            "As crianças podem juntar-se à sua personagem favorita no mundo real com este set LEGO® Super Mario™ Aventuras com Mario - Pack Inicial (71360). O set contém uma figura LEGO Mario™ que dá respostas expressivas instantâneas através dos ecrãs LCD e coluna. Os jogadores ganham moedas virtuais movendo LEGO Mario do Cano Inicial para a Bandeira de Fim de Etapa através de plataformas giratórias e de nuvem, do bloco ? e super combates com as figuras de Goomba e Bowser Jr. Reorganiza as peças para criar novos níveis para dominares.Jogo melhoradoEste presente para crianças disponibiliza uma app grátis LEGO Super Mario para jogo melhorado. Tem ferramentas para zoom e rotação para visualizar e tornar a construção mais fácil, sugere outras formas criativas para construir e jogar, e é um fórum seguro para partilhar ideias com amigos. Mario ilimitado!Ideais para jogar sozinho ou para competições de grupo, os sets LEGO Super Mario trazem uma personagem favorita familiar para o mundo real. Este Pack Inicial e os sets de expansão oferecem desafios ilimitados e estimulam as habilidades de resolução de problemas.\n"
          ]
        }
      ]
    },
    {
      "cell_type": "markdown",
      "source": [
        "Criando uma consulta e utilizando o Gemini para gerar a resposta."
      ],
      "metadata": {
        "id": "8-8GR-1HNTWV"
      }
    },
    {
      "cell_type": "code",
      "source": [
        "generation_config = {\n",
        "    \"candidate_count\": 1,\n",
        "    \"temperature\": 0,\n",
        "}"
      ],
      "metadata": {
        "id": "QkrKayRHOqPn"
      },
      "execution_count": 12,
      "outputs": []
    },
    {
      "cell_type": "code",
      "source": [
        "prompt = f\"Reescreva esse texto de uma forma mais descontraída, sem adicionar informações que não façam parte do texto: {trecho}\"\n",
        "\n",
        "model_2 = genai.GenerativeModel(\"gemini-1.0-pro\",\n",
        "                              generation_config=generation_config)\n",
        "\n",
        "response = model_2.generate_content(prompt)\n",
        "print(response.text)"
      ],
      "metadata": {
        "colab": {
          "base_uri": "https://localhost:8080/",
          "height": 240
        },
        "id": "hpmy-8snNavW",
        "outputId": "00c845bd-d73e-4fc1-cae9-875664887494"
      },
      "execution_count": 13,
      "outputs": [
        {
          "output_type": "stream",
          "name": "stdout",
          "text": [
            "Ei, molecada!\n",
            "\n",
            "Agora vocês podem curtir o Mario no mundo real com esse set LEGO® Super Mario™ da hora!\n",
            "\n",
            "Tem um Mario LEGO que fala e mexe, com uma telinha e um alto-falante. Vocês vão ganhar moedas virtuais levando o Mario do cano até a bandeira, passando por plataformas giratórias, nuvens, um bloco ? e até lutando contra o Goomba e o Bowser Jr.!\n",
            "\n",
            "E o melhor: vocês podem montar o set do jeito que quiserem, criando fases novas e desafiadoras.\n",
            "\n",
            "Ah, e tem um app grátis do LEGO Super Mario que ajuda vocês a construir e jogar melhor. Dá pra dar zoom, girar a tela, ver dicas e até compartilhar ideias com os amigos.\n",
            "\n",
            "Então, bora brincar com o Mario no mundo real! É diversão garantida, sozinho ou com a galera.\n"
          ]
        }
      ]
    }
  ]
}